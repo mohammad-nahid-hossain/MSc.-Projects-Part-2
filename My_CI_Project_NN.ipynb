{
  "nbformat": 4,
  "nbformat_minor": 0,
  "metadata": {
    "colab": {
      "name": "My_CI_Project_NN.ipynb",
      "provenance": [],
      "authorship_tag": "ABX9TyPeEYhSoZNDR36/5WMpSEne",
      "include_colab_link": true
    },
    "kernelspec": {
      "name": "python3",
      "display_name": "Python 3"
    },
    "accelerator": "GPU"
  },
  "cells": [
    {
      "cell_type": "markdown",
      "metadata": {
        "id": "view-in-github",
        "colab_type": "text"
      },
      "source": [
        "<a href=\"https://colab.research.google.com/github/mohammad-nahid-hossain/MSc.-Projects-Part-2/blob/main/My_CI_Project_NN.ipynb\" target=\"_parent\"><img src=\"https://colab.research.google.com/assets/colab-badge.svg\" alt=\"Open In Colab\"/></a>"
      ]
    },
    {
      "cell_type": "code",
      "metadata": {
        "id": "9pyKAT2ydyIx",
        "colab": {
          "base_uri": "https://localhost:8080/"
        },
        "outputId": "b45ee83b-c066-4d6d-83eb-5383178aebca"
      },
      "source": [
        "from google.colab import drive\n",
        "drive.mount('/content/drive/')"
      ],
      "execution_count": null,
      "outputs": [
        {
          "output_type": "stream",
          "text": [
            "Mounted at /content/drive/\n"
          ],
          "name": "stdout"
        }
      ]
    },
    {
      "cell_type": "code",
      "metadata": {
        "id": "My0Euq482mI-",
        "colab": {
          "base_uri": "https://localhost:8080/"
        },
        "outputId": "e8b91b88-6fcd-4a26-d196-b594b1615448"
      },
      "source": [
        "!ls \"/content/drive/My Drive/\""
      ],
      "execution_count": null,
      "outputs": [
        {
          "output_type": "stream",
          "text": [
            " 2014_Bodily_Maps_of_Emotions.mat\n",
            "'2019110211_Hossain Mohammad Nahid.gdoc'\n",
            " Books\n",
            "'Books(islamic)'\n",
            "'Bsc Thesis'\n",
            " CERTIFICATES\n",
            "'Colab Notebooks'\n",
            " Coursera\n",
            " CV\n",
            "'Data Acquisition for research work'\n",
            " DeepLearningBook.pdf\n",
            "'Dream forest tour'\n",
            "'Getting started.pdf'\n",
            "'GME transaction'\n",
            " Hmmmmm.gsheet\n",
            "'How to install cuda 10.1 in Ubuntu 18.04.zip'\n",
            " IMG_4717.JPG\n",
            " IMG_4719.JPG\n",
            " lecture_1.pdf\n",
            " lecture_2.pdf\n",
            " lecture_3.pdf\n",
            " lecture_4.pdf\n",
            " Msc\n",
            " Neural-Network-based-finger-counting-technique.pdf\n",
            "'New Doc 2019-09-03 20.05.57.jpg'\n",
            " Paper\n",
            "'PhD Application'\n",
            "'PhD Application Pack'\n",
            "'Planning Document.docx'\n",
            "'Planning Document.odt'\n",
            "'Planning Document.pdf'\n",
            "'Snow fall video'\n"
          ],
          "name": "stdout"
        }
      ]
    },
    {
      "cell_type": "code",
      "metadata": {
        "id": "F2rAMYESsZPK"
      },
      "source": [
        "import pandas as pd\n",
        "data = pd.read_csv('/content/drive/My Drive/Msc/Msc Thesis/Coding Documents/AFS/NN/My_Project_CI_data.csv')"
      ],
      "execution_count": null,
      "outputs": []
    },
    {
      "cell_type": "code",
      "metadata": {
        "colab": {
          "base_uri": "https://localhost:8080/",
          "height": 204
        },
        "id": "woAZCYQ3VFhE",
        "outputId": "0e1731f1-e02c-4163-d488-706a802662c5"
      },
      "source": [
        "data.head()"
      ],
      "execution_count": null,
      "outputs": [
        {
          "output_type": "execute_result",
          "data": {
            "text/html": [
              "<div>\n",
              "<style scoped>\n",
              "    .dataframe tbody tr th:only-of-type {\n",
              "        vertical-align: middle;\n",
              "    }\n",
              "\n",
              "    .dataframe tbody tr th {\n",
              "        vertical-align: top;\n",
              "    }\n",
              "\n",
              "    .dataframe thead th {\n",
              "        text-align: right;\n",
              "    }\n",
              "</style>\n",
              "<table border=\"1\" class=\"dataframe\">\n",
              "  <thead>\n",
              "    <tr style=\"text-align: right;\">\n",
              "      <th></th>\n",
              "      <th>TotalTime</th>\n",
              "      <th>AVG</th>\n",
              "      <th>Energy</th>\n",
              "      <th>Step</th>\n",
              "      <th>Group</th>\n",
              "    </tr>\n",
              "  </thead>\n",
              "  <tbody>\n",
              "    <tr>\n",
              "      <th>0</th>\n",
              "      <td>12</td>\n",
              "      <td>1.500000</td>\n",
              "      <td>302.500000</td>\n",
              "      <td>605</td>\n",
              "      <td>3</td>\n",
              "    </tr>\n",
              "    <tr>\n",
              "      <th>1</th>\n",
              "      <td>13</td>\n",
              "      <td>2.166667</td>\n",
              "      <td>183.333333</td>\n",
              "      <td>550</td>\n",
              "      <td>3</td>\n",
              "    </tr>\n",
              "    <tr>\n",
              "      <th>2</th>\n",
              "      <td>10</td>\n",
              "      <td>1.428571</td>\n",
              "      <td>183.333333</td>\n",
              "      <td>550</td>\n",
              "      <td>3</td>\n",
              "    </tr>\n",
              "    <tr>\n",
              "      <th>3</th>\n",
              "      <td>12</td>\n",
              "      <td>1.500000</td>\n",
              "      <td>183.333333</td>\n",
              "      <td>550</td>\n",
              "      <td>3</td>\n",
              "    </tr>\n",
              "    <tr>\n",
              "      <th>4</th>\n",
              "      <td>10</td>\n",
              "      <td>1.250000</td>\n",
              "      <td>201.666667</td>\n",
              "      <td>605</td>\n",
              "      <td>3</td>\n",
              "    </tr>\n",
              "  </tbody>\n",
              "</table>\n",
              "</div>"
            ],
            "text/plain": [
              "   TotalTime       AVG      Energy  Step  Group\n",
              "0         12  1.500000  302.500000   605      3\n",
              "1         13  2.166667  183.333333   550      3\n",
              "2         10  1.428571  183.333333   550      3\n",
              "3         12  1.500000  183.333333   550      3\n",
              "4         10  1.250000  201.666667   605      3"
            ]
          },
          "metadata": {
            "tags": []
          },
          "execution_count": 5
        }
      ]
    },
    {
      "cell_type": "code",
      "metadata": {
        "id": "DQSS6wDmqxw5"
      },
      "source": [
        "import pandas as pd\n",
        "from sklearn.preprocessing import MinMaxScaler"
      ],
      "execution_count": null,
      "outputs": []
    },
    {
      "cell_type": "code",
      "metadata": {
        "id": "ImmmohRPVQoq"
      },
      "source": [
        "# Load training data set from CSV file\n",
        "training_data_df = pd.read_csv('/content/drive/My Drive/Msc/Msc Thesis/Coding Documents/AFS/NN/CI_detection_train.csv')"
      ],
      "execution_count": null,
      "outputs": []
    },
    {
      "cell_type": "code",
      "metadata": {
        "id": "Hbf1F4Eg5Ate"
      },
      "source": [
        "# Load testing data set from CSV file\n",
        "test_data_df = pd.read_csv('/content/drive/My Drive/Msc/Msc Thesis/Coding Documents/AFS/NN/CI_detection_test.csv')"
      ],
      "execution_count": null,
      "outputs": []
    },
    {
      "cell_type": "code",
      "metadata": {
        "id": "4bd6oShQ5I89"
      },
      "source": [
        "# Data needs to be scaled to a small range like 0 to 1 for the neural\n",
        "# network to work well.\n",
        "scaler = MinMaxScaler(feature_range=(0, 1))"
      ],
      "execution_count": null,
      "outputs": []
    },
    {
      "cell_type": "code",
      "metadata": {
        "id": "53CuApAW5Mm0"
      },
      "source": [
        "# Scale both the training inputs and outputs\n",
        "scaled_training = scaler.fit_transform(training_data_df)\n",
        "scaled_testing = scaler.transform(test_data_df)"
      ],
      "execution_count": null,
      "outputs": []
    },
    {
      "cell_type": "code",
      "metadata": {
        "colab": {
          "base_uri": "https://localhost:8080/"
        },
        "id": "27PDOBA85Qc-",
        "outputId": "8b2d8122-4f19-486e-a806-e70ab201291f"
      },
      "source": [
        "# Print out the adjustment that the scaler applied to the total_earnings column of data\n",
        "print(\"Note: feelings values were scaled by multiplying by {:.10f} and adding {:.6f}\".format(scaler.scale_[4], scaler.min_[4]))"
      ],
      "execution_count": null,
      "outputs": [
        {
          "output_type": "stream",
          "text": [
            "Note: feelings values were scaled by multiplying by 0.3333333333 and adding 0.000000\n"
          ],
          "name": "stdout"
        }
      ]
    },
    {
      "cell_type": "code",
      "metadata": {
        "id": "1te3QzEs5iqO"
      },
      "source": [
        "# Create new pandas DataFrame objects from the scaled data\n",
        "scaled_training_df = pd.DataFrame(scaled_training, columns=training_data_df.columns.values)\n",
        "scaled_testing_df = pd.DataFrame(scaled_testing, columns=test_data_df.columns.values)"
      ],
      "execution_count": null,
      "outputs": []
    },
    {
      "cell_type": "code",
      "metadata": {
        "id": "0MsNXfXj5oGb"
      },
      "source": [
        "# Save scaled data dataframes to new CSV files\n",
        "scaled_training_df.to_csv('/content/drive/My Drive/Msc/Msc Thesis/Coding Documents/AFS/NN/CI_detection_train_scaled.csv', index=False)\n",
        "scaled_testing_df.to_csv('/content/drive/My Drive/Msc/Msc Thesis/Coding Documents/AFS/NN/CI_detection_test_scaled.csv', index=False)"
      ],
      "execution_count": null,
      "outputs": []
    },
    {
      "cell_type": "code",
      "metadata": {
        "id": "Drj1TmqO6Lpa"
      },
      "source": [
        "import pandas as pd\n",
        "from keras.models import Sequential\n",
        "from keras.layers import *"
      ],
      "execution_count": null,
      "outputs": []
    },
    {
      "cell_type": "code",
      "metadata": {
        "id": "DEavj6cA6Phb"
      },
      "source": [
        "training_data_df = pd.read_csv('/content/drive/My Drive/Msc/Msc Thesis/Coding Documents/AFS/NN/CI_detection_train_scaled.csv')"
      ],
      "execution_count": null,
      "outputs": []
    },
    {
      "cell_type": "code",
      "metadata": {
        "id": "TgZ5kS8x6cYH"
      },
      "source": [
        "X = training_data_df.drop('Group', axis=1).values\n",
        "Y = training_data_df[['Group']].values"
      ],
      "execution_count": null,
      "outputs": []
    },
    {
      "cell_type": "code",
      "metadata": {
        "id": "5KQ_G4g76iu3"
      },
      "source": [
        "# Define the model\n",
        "model = Sequential()\n",
        "model.add(Dense(50, input_dim=4, activation='relu'))\n",
        "model.add(Dense(100, activation='relu'))\n",
        "model.add(Dense(50, activation='relu'))\n",
        "model.add(Dense(1, activation='linear'))\n",
        "model.compile(loss=\"mean_squared_error\", optimizer=\"adam\", metrics=['accuracy'])"
      ],
      "execution_count": null,
      "outputs": []
    },
    {
      "cell_type": "code",
      "metadata": {
        "colab": {
          "base_uri": "https://localhost:8080/"
        },
        "id": "tPL7Rz4c6ufI",
        "outputId": "170020dd-94ac-4b5c-9797-05d76e01242d"
      },
      "source": [
        "# Train the model\n",
        "\n",
        "model.fit(\n",
        "    X,\n",
        "    Y,\n",
        "    epochs=50,\n",
        "    shuffle=True,\n",
        "    verbose=2\n",
        ")"
      ],
      "execution_count": null,
      "outputs": [
        {
          "output_type": "stream",
          "text": [
            "Epoch 1/50\n",
            "125/125 - 2s - loss: 0.0730 - accuracy: 0.6933\n",
            "Epoch 2/50\n",
            "125/125 - 0s - loss: 0.0635 - accuracy: 0.7049\n",
            "Epoch 3/50\n",
            "125/125 - 0s - loss: 0.0614 - accuracy: 0.7121\n",
            "Epoch 4/50\n",
            "125/125 - 0s - loss: 0.0597 - accuracy: 0.7159\n",
            "Epoch 5/50\n",
            "125/125 - 0s - loss: 0.0593 - accuracy: 0.7159\n",
            "Epoch 6/50\n",
            "125/125 - 0s - loss: 0.0593 - accuracy: 0.7169\n",
            "Epoch 7/50\n",
            "125/125 - 0s - loss: 0.0587 - accuracy: 0.7171\n",
            "Epoch 8/50\n",
            "125/125 - 0s - loss: 0.0576 - accuracy: 0.7189\n",
            "Epoch 9/50\n",
            "125/125 - 0s - loss: 0.0574 - accuracy: 0.7189\n",
            "Epoch 10/50\n",
            "125/125 - 0s - loss: 0.0571 - accuracy: 0.7179\n",
            "Epoch 11/50\n",
            "125/125 - 0s - loss: 0.0569 - accuracy: 0.7174\n",
            "Epoch 12/50\n",
            "125/125 - 0s - loss: 0.0567 - accuracy: 0.7186\n",
            "Epoch 13/50\n",
            "125/125 - 0s - loss: 0.0563 - accuracy: 0.7184\n",
            "Epoch 14/50\n",
            "125/125 - 0s - loss: 0.0567 - accuracy: 0.7184\n",
            "Epoch 15/50\n",
            "125/125 - 0s - loss: 0.0568 - accuracy: 0.7191\n",
            "Epoch 16/50\n",
            "125/125 - 0s - loss: 0.0558 - accuracy: 0.7191\n",
            "Epoch 17/50\n",
            "125/125 - 0s - loss: 0.0562 - accuracy: 0.7201\n",
            "Epoch 18/50\n",
            "125/125 - 0s - loss: 0.0561 - accuracy: 0.7201\n",
            "Epoch 19/50\n",
            "125/125 - 0s - loss: 0.0556 - accuracy: 0.7191\n",
            "Epoch 20/50\n",
            "125/125 - 0s - loss: 0.0553 - accuracy: 0.7219\n",
            "Epoch 21/50\n",
            "125/125 - 0s - loss: 0.0551 - accuracy: 0.7216\n",
            "Epoch 22/50\n",
            "125/125 - 0s - loss: 0.0552 - accuracy: 0.7201\n",
            "Epoch 23/50\n",
            "125/125 - 0s - loss: 0.0552 - accuracy: 0.7211\n",
            "Epoch 24/50\n",
            "125/125 - 0s - loss: 0.0554 - accuracy: 0.7221\n",
            "Epoch 25/50\n",
            "125/125 - 0s - loss: 0.0554 - accuracy: 0.7219\n",
            "Epoch 26/50\n",
            "125/125 - 0s - loss: 0.0551 - accuracy: 0.7206\n",
            "Epoch 27/50\n",
            "125/125 - 0s - loss: 0.0549 - accuracy: 0.7209\n",
            "Epoch 28/50\n",
            "125/125 - 0s - loss: 0.0547 - accuracy: 0.7231\n",
            "Epoch 29/50\n",
            "125/125 - 0s - loss: 0.0550 - accuracy: 0.7219\n",
            "Epoch 30/50\n",
            "125/125 - 0s - loss: 0.0548 - accuracy: 0.7221\n",
            "Epoch 31/50\n",
            "125/125 - 0s - loss: 0.0549 - accuracy: 0.7216\n",
            "Epoch 32/50\n",
            "125/125 - 0s - loss: 0.0546 - accuracy: 0.7236\n",
            "Epoch 33/50\n",
            "125/125 - 0s - loss: 0.0548 - accuracy: 0.7231\n",
            "Epoch 34/50\n",
            "125/125 - 0s - loss: 0.0544 - accuracy: 0.7234\n",
            "Epoch 35/50\n",
            "125/125 - 0s - loss: 0.0544 - accuracy: 0.7254\n",
            "Epoch 36/50\n",
            "125/125 - 0s - loss: 0.0544 - accuracy: 0.7231\n",
            "Epoch 37/50\n",
            "125/125 - 0s - loss: 0.0543 - accuracy: 0.7244\n",
            "Epoch 38/50\n",
            "125/125 - 0s - loss: 0.0543 - accuracy: 0.7244\n",
            "Epoch 39/50\n",
            "125/125 - 0s - loss: 0.0543 - accuracy: 0.7224\n",
            "Epoch 40/50\n",
            "125/125 - 0s - loss: 0.0541 - accuracy: 0.7236\n",
            "Epoch 41/50\n",
            "125/125 - 0s - loss: 0.0541 - accuracy: 0.7251\n",
            "Epoch 42/50\n",
            "125/125 - 0s - loss: 0.0540 - accuracy: 0.7246\n",
            "Epoch 43/50\n",
            "125/125 - 0s - loss: 0.0541 - accuracy: 0.7239\n",
            "Epoch 44/50\n",
            "125/125 - 0s - loss: 0.0540 - accuracy: 0.7251\n",
            "Epoch 45/50\n",
            "125/125 - 0s - loss: 0.0543 - accuracy: 0.7246\n",
            "Epoch 46/50\n",
            "125/125 - 0s - loss: 0.0538 - accuracy: 0.7256\n",
            "Epoch 47/50\n",
            "125/125 - 0s - loss: 0.0538 - accuracy: 0.7244\n",
            "Epoch 48/50\n",
            "125/125 - 0s - loss: 0.0541 - accuracy: 0.7236\n",
            "Epoch 49/50\n",
            "125/125 - 0s - loss: 0.0542 - accuracy: 0.7239\n",
            "Epoch 50/50\n",
            "125/125 - 0s - loss: 0.0538 - accuracy: 0.7241\n"
          ],
          "name": "stdout"
        },
        {
          "output_type": "execute_result",
          "data": {
            "text/plain": [
              "<tensorflow.python.keras.callbacks.History at 0x7f9be052ca58>"
            ]
          },
          "metadata": {
            "tags": []
          },
          "execution_count": 21
        }
      ]
    },
    {
      "cell_type": "code",
      "metadata": {
        "colab": {
          "base_uri": "https://localhost:8080/"
        },
        "id": "9EMyuR_660PE",
        "outputId": "5496006f-3ec1-4170-e533-316e296b00a2"
      },
      "source": [
        "# Load the separate test data set\n",
        "test_data_df = pd.read_csv('/content/drive/My Drive/Msc/Msc Thesis/Coding Documents/AFS/NN/CI_detection_test_scaled.csv')\n",
        "\n",
        "X_test = test_data_df.drop('Group', axis=1).values\n",
        "Y_test = test_data_df[['Group']].values\n",
        "\n",
        "##test_loss, test_acc = model.evaluate(test_images,  test_labels, verbose=2)\n",
        "test_error_rate, test_acc = model.evaluate(X_test, Y_test, verbose=0)\n",
        "print(\"The mean squared error (MSE) for the test data set is: {}\".format(test_error_rate))\n",
        "print(\"Accuracy : {}\".format(test_acc))"
      ],
      "execution_count": null,
      "outputs": [
        {
          "output_type": "stream",
          "text": [
            "The mean squared error (MSE) for the test data set is: 0.05687100440263748\n",
            "Accuracy : 0.7317073345184326\n"
          ],
          "name": "stdout"
        }
      ]
    },
    {
      "cell_type": "code",
      "metadata": {
        "colab": {
          "base_uri": "https://localhost:8080/"
        },
        "id": "gsc3SAv57KMO",
        "outputId": "e70dfddc-df22-47c7-ff9c-91999beb3a44"
      },
      "source": [
        "# Save the model to disk\n",
        "model.save(\"trained_model.h5\")\n",
        "print(\"Model saved to disk.\")"
      ],
      "execution_count": null,
      "outputs": [
        {
          "output_type": "stream",
          "text": [
            "Model saved to disk.\n"
          ],
          "name": "stdout"
        }
      ]
    },
    {
      "cell_type": "code",
      "metadata": {
        "id": "vV-w6QBb7Lzi"
      },
      "source": [
        "# Load the data we make to use to make a prediction\n",
        "X = pd.read_csv('/content/drive/My Drive/Msc/Msc Thesis/Coding Documents/AFS/NN/proposed_new_CI.csv').values"
      ],
      "execution_count": null,
      "outputs": []
    },
    {
      "cell_type": "code",
      "metadata": {
        "id": "IHHHYuL27a8u"
      },
      "source": [
        "# Make a prediction with the neural network\n",
        "prediction = model.predict(X)"
      ],
      "execution_count": null,
      "outputs": []
    },
    {
      "cell_type": "code",
      "metadata": {
        "id": "sv6fn_3j7ebu"
      },
      "source": [
        "# Grab just the first element of the first prediction (since that's the only have one)\n",
        "prediction = prediction[0][0]"
      ],
      "execution_count": null,
      "outputs": []
    },
    {
      "cell_type": "code",
      "metadata": {
        "id": "s2Pqlf3Q7gwz"
      },
      "source": [
        "# Re-scale the data from the 0-to-1 range back to dollars\n",
        "# These constants are from when the data was originally scaled down to the 0-to-1 range\n",
        "prediction = prediction - 0.000000\n",
        "prediction = prediction / 0.3333333333"
      ],
      "execution_count": null,
      "outputs": []
    },
    {
      "cell_type": "code",
      "metadata": {
        "id": "dGC1C6zv7tVW",
        "colab": {
          "base_uri": "https://localhost:8080/"
        },
        "outputId": "c4ef7572-9729-4eb8-89e8-51423ed7ba2f"
      },
      "source": [
        "print(\"Feeling Prediction for Proposed Mood {}\".format(prediction))"
      ],
      "execution_count": null,
      "outputs": [
        {
          "output_type": "stream",
          "text": [
            "Feeling Prediction for Proposed Mood -214.74975588085\n"
          ],
          "name": "stdout"
        }
      ]
    },
    {
      "cell_type": "code",
      "metadata": {
        "id": "d7ifI7_r7vq_"
      },
      "source": [
        ""
      ],
      "execution_count": null,
      "outputs": []
    }
  ]
}